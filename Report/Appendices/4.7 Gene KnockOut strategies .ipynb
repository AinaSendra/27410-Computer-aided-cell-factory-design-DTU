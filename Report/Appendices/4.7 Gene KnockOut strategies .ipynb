{
 "cells": [
  {
   "cell_type": "markdown",
   "metadata": {},
   "source": [
    "# OptGene"
   ]
  },
  {
   "cell_type": "code",
   "execution_count": 2,
   "metadata": {},
   "outputs": [],
   "source": [
    "from cameo.strain_design.heuristic.evolutionary_based import OptGene"
   ]
  },
  {
   "cell_type": "code",
   "execution_count": 1,
   "metadata": {},
   "outputs": [],
   "source": [
    "from cobra.io import read_sbml_model"
   ]
  },
  {
   "cell_type": "code",
   "execution_count": 3,
   "metadata": {},
   "outputs": [],
   "source": [
    "model = read_sbml_model('../models/iCre1355/iCre1355_mixo_V2.xml')"
   ]
  },
  {
   "cell_type": "code",
   "execution_count": 4,
   "metadata": {},
   "outputs": [],
   "source": [
    "optgene = OptGene(model)"
   ]
  },
  {
   "cell_type": "code",
   "execution_count": 9,
   "metadata": {},
   "outputs": [
    {
     "data": {
      "text/html": [
       "\n",
       "        <table>\n",
       "            <tr>\n",
       "                <td><strong>Metabolite identifier</strong></td><td>ac_e</td>\n",
       "            </tr><tr>\n",
       "                <td><strong>Name</strong></td><td>Acetate</td>\n",
       "            </tr><tr>\n",
       "                <td><strong>Memory address</strong></td>\n",
       "                <td>0x07fd23e4eeeb8</td>\n",
       "            </tr><tr>\n",
       "                <td><strong>Formula</strong></td><td>C2H3O2</td>\n",
       "            </tr><tr>\n",
       "                <td><strong>Compartment</strong></td><td>e</td>\n",
       "            </tr><tr>\n",
       "                <td><strong>In 2 reaction(s)</strong></td><td>\n",
       "                    EX_ac_e, ACt</td>\n",
       "            </tr>\n",
       "        </table>"
      ],
      "text/plain": [
       "<Metabolite ac_e at 0x7fd23e4eeeb8>"
      ]
     },
     "execution_count": 9,
     "metadata": {},
     "output_type": "execute_result"
    }
   ],
   "source": [
    "model.metabolites.ac_e"
   ]
  },
  {
   "cell_type": "code",
   "execution_count": 5,
   "metadata": {},
   "outputs": [
    {
     "name": "stdout",
     "output_type": "stream",
     "text": [
      "Starting optimization at Mon, 30 Nov 2020 09:12:51\n"
     ]
    },
    {
     "name": "stderr",
     "output_type": "stream",
     "text": [
      "/home/jovyan/.local/lib/python3.6/site-packages/cameo/strain_design/heuristic/evolutionary/objective_functions.py:286 \u001b[1;31mRuntimeWarning\u001b[0m: invalid value encountered in double_scalars\n",
      "/home/jovyan/.local/lib/python3.6/site-packages/cameo/strain_design/heuristic/evolutionary/objective_functions.py:286 \u001b[1;31mRuntimeWarning\u001b[0m: invalid value encountered in double_scalars\n",
      "/home/jovyan/.local/lib/python3.6/site-packages/cameo/strain_design/heuristic/evolutionary/objective_functions.py:286 \u001b[1;31mRuntimeWarning\u001b[0m: invalid value encountered in double_scalars\n",
      "/home/jovyan/.local/lib/python3.6/site-packages/cameo/strain_design/heuristic/evolutionary/objective_functions.py:286 \u001b[1;31mRuntimeWarning\u001b[0m: invalid value encountered in double_scalars\n",
      "/home/jovyan/.local/lib/python3.6/site-packages/cameo/strain_design/heuristic/evolutionary/objective_functions.py:286 \u001b[1;31mRuntimeWarning\u001b[0m: invalid value encountered in double_scalars\n",
      "/home/jovyan/.local/lib/python3.6/site-packages/cameo/strain_design/heuristic/evolutionary/objective_functions.py:286 \u001b[1;31mRuntimeWarning\u001b[0m: invalid value encountered in double_scalars\n",
      "/home/jovyan/.local/lib/python3.6/site-packages/cameo/strain_design/heuristic/evolutionary/objective_functions.py:286 \u001b[1;31mRuntimeWarning\u001b[0m: invalid value encountered in double_scalars\n"
     ]
    },
    {
     "data": {
      "application/vnd.jupyter.widget-view+json": {
       "model_id": "90a0e9441c6747f5a294dc0807271890",
       "version_major": 2,
       "version_minor": 0
      },
      "text/plain": [
       "HBox()"
      ]
     },
     "metadata": {},
     "output_type": "display_data"
    },
    {
     "name": "stderr",
     "output_type": "stream",
     "text": [
      "/home/jovyan/.local/lib/python3.6/site-packages/cameo/strain_design/heuristic/evolutionary/objective_functions.py:286 \u001b[1;31mRuntimeWarning\u001b[0m: invalid value encountered in double_scalars\n",
      "/home/jovyan/.local/lib/python3.6/site-packages/cameo/strain_design/heuristic/evolutionary/objective_functions.py:286 \u001b[1;31mRuntimeWarning\u001b[0m: invalid value encountered in double_scalars\n",
      "/home/jovyan/.local/lib/python3.6/site-packages/cameo/strain_design/heuristic/evolutionary/objective_functions.py:286 \u001b[1;31mRuntimeWarning\u001b[0m: invalid value encountered in double_scalars\n",
      "/home/jovyan/.local/lib/python3.6/site-packages/cameo/strain_design/heuristic/evolutionary/objective_functions.py:286 \u001b[1;31mRuntimeWarning\u001b[0m: invalid value encountered in double_scalars\n",
      "/home/jovyan/.local/lib/python3.6/site-packages/cameo/strain_design/heuristic/evolutionary/objective_functions.py:286 \u001b[1;31mRuntimeWarning\u001b[0m: invalid value encountered in double_scalars\n",
      "/home/jovyan/.local/lib/python3.6/site-packages/cameo/strain_design/heuristic/evolutionary/objective_functions.py:286 \u001b[1;31mRuntimeWarning\u001b[0m: invalid value encountered in double_scalars\n",
      "/home/jovyan/.local/lib/python3.6/site-packages/cameo/strain_design/heuristic/evolutionary/objective_functions.py:286 \u001b[1;31mRuntimeWarning\u001b[0m: invalid value encountered in double_scalars\n",
      "/home/jovyan/.local/lib/python3.6/site-packages/cameo/strain_design/heuristic/evolutionary/objective_functions.py:286 \u001b[1;31mRuntimeWarning\u001b[0m: invalid value encountered in double_scalars\n",
      "/home/jovyan/.local/lib/python3.6/site-packages/cameo/strain_design/heuristic/evolutionary/objective_functions.py:286 \u001b[1;31mRuntimeWarning\u001b[0m: invalid value encountered in double_scalars\n",
      "/home/jovyan/.local/lib/python3.6/site-packages/cameo/strain_design/heuristic/evolutionary/objective_functions.py:286 \u001b[1;31mRuntimeWarning\u001b[0m: invalid value encountered in double_scalars\n",
      "/home/jovyan/.local/lib/python3.6/site-packages/cameo/strain_design/heuristic/evolutionary/objective_functions.py:286 \u001b[1;31mRuntimeWarning\u001b[0m: invalid value encountered in double_scalars\n",
      "/home/jovyan/.local/lib/python3.6/site-packages/cameo/strain_design/heuristic/evolutionary/objective_functions.py:286 \u001b[1;31mRuntimeWarning\u001b[0m: invalid value encountered in double_scalars\n",
      "/home/jovyan/.local/lib/python3.6/site-packages/cameo/strain_design/heuristic/evolutionary/objective_functions.py:286 \u001b[1;31mRuntimeWarning\u001b[0m: invalid value encountered in double_scalars\n",
      "/home/jovyan/.local/lib/python3.6/site-packages/cameo/strain_design/heuristic/evolutionary/objective_functions.py:286 \u001b[1;31mRuntimeWarning\u001b[0m: invalid value encountered in double_scalars\n",
      "/home/jovyan/.local/lib/python3.6/site-packages/cameo/strain_design/heuristic/evolutionary/objective_functions.py:286 \u001b[1;31mRuntimeWarning\u001b[0m: invalid value encountered in double_scalars\n",
      "/home/jovyan/.local/lib/python3.6/site-packages/cameo/strain_design/heuristic/evolutionary/objective_functions.py:286 \u001b[1;31mRuntimeWarning\u001b[0m: invalid value encountered in double_scalars\n",
      "/home/jovyan/.local/lib/python3.6/site-packages/cameo/strain_design/heuristic/evolutionary/objective_functions.py:286 \u001b[1;31mRuntimeWarning\u001b[0m: invalid value encountered in double_scalars\n",
      "/home/jovyan/.local/lib/python3.6/site-packages/cameo/strain_design/heuristic/evolutionary/objective_functions.py:286 \u001b[1;31mRuntimeWarning\u001b[0m: invalid value encountered in double_scalars\n",
      "/home/jovyan/.local/lib/python3.6/site-packages/cameo/strain_design/heuristic/evolutionary/objective_functions.py:286 \u001b[1;31mRuntimeWarning\u001b[0m: invalid value encountered in double_scalars\n",
      "/home/jovyan/.local/lib/python3.6/site-packages/cameo/strain_design/heuristic/evolutionary/objective_functions.py:286 \u001b[1;31mRuntimeWarning\u001b[0m: invalid value encountered in double_scalars\n",
      "/home/jovyan/.local/lib/python3.6/site-packages/cameo/strain_design/heuristic/evolutionary/objective_functions.py:286 \u001b[1;31mRuntimeWarning\u001b[0m: invalid value encountered in double_scalars\n",
      "/home/jovyan/.local/lib/python3.6/site-packages/cameo/strain_design/heuristic/evolutionary/objective_functions.py:286 \u001b[1;31mRuntimeWarning\u001b[0m: invalid value encountered in double_scalars\n",
      "/home/jovyan/.local/lib/python3.6/site-packages/cameo/strain_design/heuristic/evolutionary/objective_functions.py:286 \u001b[1;31mRuntimeWarning\u001b[0m: invalid value encountered in double_scalars\n",
      "/home/jovyan/.local/lib/python3.6/site-packages/cameo/strain_design/heuristic/evolutionary/objective_functions.py:286 \u001b[1;31mRuntimeWarning\u001b[0m: invalid value encountered in double_scalars\n",
      "/home/jovyan/.local/lib/python3.6/site-packages/cameo/strain_design/heuristic/evolutionary/objective_functions.py:286 \u001b[1;31mRuntimeWarning\u001b[0m: invalid value encountered in double_scalars\n",
      "/home/jovyan/.local/lib/python3.6/site-packages/cameo/strain_design/heuristic/evolutionary/objective_functions.py:286 \u001b[1;31mRuntimeWarning\u001b[0m: invalid value encountered in double_scalars\n",
      "/home/jovyan/.local/lib/python3.6/site-packages/cameo/strain_design/heuristic/evolutionary/objective_functions.py:286 \u001b[1;31mRuntimeWarning\u001b[0m: invalid value encountered in double_scalars\n",
      "/home/jovyan/.local/lib/python3.6/site-packages/cameo/strain_design/heuristic/evolutionary/objective_functions.py:286 \u001b[1;31mRuntimeWarning\u001b[0m: invalid value encountered in double_scalars\n",
      "/home/jovyan/.local/lib/python3.6/site-packages/cameo/strain_design/heuristic/evolutionary/objective_functions.py:286 \u001b[1;31mRuntimeWarning\u001b[0m: invalid value encountered in double_scalars\n",
      "/home/jovyan/.local/lib/python3.6/site-packages/cameo/strain_design/heuristic/evolutionary/objective_functions.py:286 \u001b[1;31mRuntimeWarning\u001b[0m: invalid value encountered in double_scalars\n",
      "/home/jovyan/.local/lib/python3.6/site-packages/cameo/strain_design/heuristic/evolutionary/objective_functions.py:286 \u001b[1;31mRuntimeWarning\u001b[0m: invalid value encountered in double_scalars\n",
      "/home/jovyan/.local/lib/python3.6/site-packages/cameo/strain_design/heuristic/evolutionary/objective_functions.py:286 \u001b[1;31mRuntimeWarning\u001b[0m: invalid value encountered in double_scalars\n",
      "/home/jovyan/.local/lib/python3.6/site-packages/cameo/strain_design/heuristic/evolutionary/objective_functions.py:286 \u001b[1;31mRuntimeWarning\u001b[0m: invalid value encountered in double_scalars\n",
      "/home/jovyan/.local/lib/python3.6/site-packages/cameo/strain_design/heuristic/evolutionary/objective_functions.py:286 \u001b[1;31mRuntimeWarning\u001b[0m: invalid value encountered in double_scalars\n",
      "/home/jovyan/.local/lib/python3.6/site-packages/cameo/strain_design/heuristic/evolutionary/objective_functions.py:286 \u001b[1;31mRuntimeWarning\u001b[0m: invalid value encountered in double_scalars\n",
      "/home/jovyan/.local/lib/python3.6/site-packages/cameo/strain_design/heuristic/evolutionary/objective_functions.py:286 \u001b[1;31mRuntimeWarning\u001b[0m: invalid value encountered in double_scalars\n",
      "/home/jovyan/.local/lib/python3.6/site-packages/cameo/strain_design/heuristic/evolutionary/objective_functions.py:286 \u001b[1;31mRuntimeWarning\u001b[0m: invalid value encountered in double_scalars\n",
      "/home/jovyan/.local/lib/python3.6/site-packages/cameo/strain_design/heuristic/evolutionary/objective_functions.py:286 \u001b[1;31mRuntimeWarning\u001b[0m: invalid value encountered in double_scalars\n",
      "/home/jovyan/.local/lib/python3.6/site-packages/cameo/strain_design/heuristic/evolutionary/objective_functions.py:286 \u001b[1;31mRuntimeWarning\u001b[0m: invalid value encountered in double_scalars\n",
      "/home/jovyan/.local/lib/python3.6/site-packages/cameo/strain_design/heuristic/evolutionary/objective_functions.py:286 \u001b[1;31mRuntimeWarning\u001b[0m: invalid value encountered in double_scalars\n",
      "/home/jovyan/.local/lib/python3.6/site-packages/cameo/strain_design/heuristic/evolutionary/objective_functions.py:286 \u001b[1;31mRuntimeWarning\u001b[0m: invalid value encountered in double_scalars\n",
      "/home/jovyan/.local/lib/python3.6/site-packages/cameo/strain_design/heuristic/evolutionary/objective_functions.py:286 \u001b[1;31mRuntimeWarning\u001b[0m: invalid value encountered in double_scalars\n",
      "/home/jovyan/.local/lib/python3.6/site-packages/cameo/strain_design/heuristic/evolutionary/objective_functions.py:286 \u001b[1;31mRuntimeWarning\u001b[0m: invalid value encountered in double_scalars\n",
      "/home/jovyan/.local/lib/python3.6/site-packages/cameo/strain_design/heuristic/evolutionary/objective_functions.py:286 \u001b[1;31mRuntimeWarning\u001b[0m: invalid value encountered in double_scalars\n",
      "/home/jovyan/.local/lib/python3.6/site-packages/cameo/strain_design/heuristic/evolutionary/objective_functions.py:286 \u001b[1;31mRuntimeWarning\u001b[0m: invalid value encountered in double_scalars\n",
      "/home/jovyan/.local/lib/python3.6/site-packages/cameo/strain_design/heuristic/evolutionary/objective_functions.py:286 \u001b[1;31mRuntimeWarning\u001b[0m: invalid value encountered in double_scalars\n",
      "/home/jovyan/.local/lib/python3.6/site-packages/cameo/strain_design/heuristic/evolutionary/objective_functions.py:286 \u001b[1;31mRuntimeWarning\u001b[0m: invalid value encountered in double_scalars\n",
      "/home/jovyan/.local/lib/python3.6/site-packages/cameo/strain_design/heuristic/evolutionary/objective_functions.py:286 \u001b[1;31mRuntimeWarning\u001b[0m: invalid value encountered in double_scalars\n",
      "/home/jovyan/.local/lib/python3.6/site-packages/cameo/strain_design/heuristic/evolutionary/objective_functions.py:286 \u001b[1;31mRuntimeWarning\u001b[0m: invalid value encountered in double_scalars\n",
      "/home/jovyan/.local/lib/python3.6/site-packages/cameo/strain_design/heuristic/evolutionary/objective_functions.py:286 \u001b[1;31mRuntimeWarning\u001b[0m: invalid value encountered in double_scalars\n",
      "/home/jovyan/.local/lib/python3.6/site-packages/cameo/strain_design/heuristic/evolutionary/objective_functions.py:286 \u001b[1;31mRuntimeWarning\u001b[0m: invalid value encountered in double_scalars\n",
      "/home/jovyan/.local/lib/python3.6/site-packages/cameo/strain_design/heuristic/evolutionary/objective_functions.py:286 \u001b[1;31mRuntimeWarning\u001b[0m: invalid value encountered in double_scalars\n",
      "/home/jovyan/.local/lib/python3.6/site-packages/cameo/strain_design/heuristic/evolutionary/objective_functions.py:286 \u001b[1;31mRuntimeWarning\u001b[0m: invalid value encountered in double_scalars\n",
      "/home/jovyan/.local/lib/python3.6/site-packages/cameo/strain_design/heuristic/evolutionary/objective_functions.py:286 \u001b[1;31mRuntimeWarning\u001b[0m: invalid value encountered in double_scalars\n",
      "/home/jovyan/.local/lib/python3.6/site-packages/cameo/strain_design/heuristic/evolutionary/objective_functions.py:286 \u001b[1;31mRuntimeWarning\u001b[0m: invalid value encountered in double_scalars\n",
      "/home/jovyan/.local/lib/python3.6/site-packages/cameo/strain_design/heuristic/evolutionary/objective_functions.py:286 \u001b[1;31mRuntimeWarning\u001b[0m: invalid value encountered in double_scalars\n",
      "/home/jovyan/.local/lib/python3.6/site-packages/cameo/strain_design/heuristic/evolutionary/objective_functions.py:286 \u001b[1;31mRuntimeWarning\u001b[0m: invalid value encountered in double_scalars\n",
      "/home/jovyan/.local/lib/python3.6/site-packages/cameo/strain_design/heuristic/evolutionary/objective_functions.py:286 \u001b[1;31mRuntimeWarning\u001b[0m: invalid value encountered in double_scalars\n",
      "/home/jovyan/.local/lib/python3.6/site-packages/cameo/strain_design/heuristic/evolutionary/objective_functions.py:286 \u001b[1;31mRuntimeWarning\u001b[0m: invalid value encountered in double_scalars\n",
      "/home/jovyan/.local/lib/python3.6/site-packages/cameo/strain_design/heuristic/evolutionary/objective_functions.py:286 \u001b[1;31mRuntimeWarning\u001b[0m: invalid value encountered in double_scalars\n",
      "/home/jovyan/.local/lib/python3.6/site-packages/cameo/strain_design/heuristic/evolutionary/objective_functions.py:286 \u001b[1;31mRuntimeWarning\u001b[0m: invalid value encountered in double_scalars\n",
      "/home/jovyan/.local/lib/python3.6/site-packages/cameo/strain_design/heuristic/evolutionary/objective_functions.py:286 \u001b[1;31mRuntimeWarning\u001b[0m: invalid value encountered in double_scalars\n",
      "/home/jovyan/.local/lib/python3.6/site-packages/cameo/strain_design/heuristic/evolutionary/objective_functions.py:286 \u001b[1;31mRuntimeWarning\u001b[0m: invalid value encountered in double_scalars\n",
      "/home/jovyan/.local/lib/python3.6/site-packages/cameo/strain_design/heuristic/evolutionary/objective_functions.py:286 \u001b[1;31mRuntimeWarning\u001b[0m: invalid value encountered in double_scalars\n",
      "/home/jovyan/.local/lib/python3.6/site-packages/cameo/strain_design/heuristic/evolutionary/objective_functions.py:286 \u001b[1;31mRuntimeWarning\u001b[0m: invalid value encountered in double_scalars\n",
      "/home/jovyan/.local/lib/python3.6/site-packages/cameo/strain_design/heuristic/evolutionary/objective_functions.py:286 \u001b[1;31mRuntimeWarning\u001b[0m: invalid value encountered in double_scalars\n",
      "/home/jovyan/.local/lib/python3.6/site-packages/cameo/strain_design/heuristic/evolutionary/objective_functions.py:286 \u001b[1;31mRuntimeWarning\u001b[0m: invalid value encountered in double_scalars\n",
      "/home/jovyan/.local/lib/python3.6/site-packages/cameo/strain_design/heuristic/evolutionary/objective_functions.py:286 \u001b[1;31mRuntimeWarning\u001b[0m: invalid value encountered in double_scalars\n",
      "/home/jovyan/.local/lib/python3.6/site-packages/cameo/strain_design/heuristic/evolutionary/objective_functions.py:286 \u001b[1;31mRuntimeWarning\u001b[0m: invalid value encountered in double_scalars\n",
      "/home/jovyan/.local/lib/python3.6/site-packages/cameo/strain_design/heuristic/evolutionary/objective_functions.py:286 \u001b[1;31mRuntimeWarning\u001b[0m: invalid value encountered in double_scalars\n",
      "/home/jovyan/.local/lib/python3.6/site-packages/cameo/strain_design/heuristic/evolutionary/objective_functions.py:286 \u001b[1;31mRuntimeWarning\u001b[0m: invalid value encountered in double_scalars\n",
      "/home/jovyan/.local/lib/python3.6/site-packages/cameo/strain_design/heuristic/evolutionary/objective_functions.py:286 \u001b[1;31mRuntimeWarning\u001b[0m: invalid value encountered in double_scalars\n",
      "/home/jovyan/.local/lib/python3.6/site-packages/cameo/strain_design/heuristic/evolutionary/objective_functions.py:286 \u001b[1;31mRuntimeWarning\u001b[0m: invalid value encountered in double_scalars\n",
      "/home/jovyan/.local/lib/python3.6/site-packages/cameo/strain_design/heuristic/evolutionary/objective_functions.py:286 \u001b[1;31mRuntimeWarning\u001b[0m: invalid value encountered in double_scalars\n",
      "/home/jovyan/.local/lib/python3.6/site-packages/cameo/strain_design/heuristic/evolutionary/objective_functions.py:286 \u001b[1;31mRuntimeWarning\u001b[0m: invalid value encountered in double_scalars\n",
      "/home/jovyan/.local/lib/python3.6/site-packages/cameo/strain_design/heuristic/evolutionary/objective_functions.py:286 \u001b[1;31mRuntimeWarning\u001b[0m: invalid value encountered in double_scalars\n",
      "/home/jovyan/.local/lib/python3.6/site-packages/cameo/strain_design/heuristic/evolutionary/objective_functions.py:286 \u001b[1;31mRuntimeWarning\u001b[0m: invalid value encountered in double_scalars\n",
      "/home/jovyan/.local/lib/python3.6/site-packages/cameo/strain_design/heuristic/evolutionary/objective_functions.py:286 \u001b[1;31mRuntimeWarning\u001b[0m: invalid value encountered in double_scalars\n",
      "/home/jovyan/.local/lib/python3.6/site-packages/cameo/strain_design/heuristic/evolutionary/objective_functions.py:286 \u001b[1;31mRuntimeWarning\u001b[0m: invalid value encountered in double_scalars\n",
      "/home/jovyan/.local/lib/python3.6/site-packages/cameo/strain_design/heuristic/evolutionary/objective_functions.py:286 \u001b[1;31mRuntimeWarning\u001b[0m: invalid value encountered in double_scalars\n",
      "/home/jovyan/.local/lib/python3.6/site-packages/cameo/strain_design/heuristic/evolutionary/objective_functions.py:286 \u001b[1;31mRuntimeWarning\u001b[0m: invalid value encountered in double_scalars\n",
      "/home/jovyan/.local/lib/python3.6/site-packages/cameo/strain_design/heuristic/evolutionary/objective_functions.py:286 \u001b[1;31mRuntimeWarning\u001b[0m: invalid value encountered in double_scalars\n",
      "/home/jovyan/.local/lib/python3.6/site-packages/cameo/strain_design/heuristic/evolutionary/objective_functions.py:286 \u001b[1;31mRuntimeWarning\u001b[0m: invalid value encountered in double_scalars\n",
      "/home/jovyan/.local/lib/python3.6/site-packages/cameo/strain_design/heuristic/evolutionary/objective_functions.py:286 \u001b[1;31mRuntimeWarning\u001b[0m: invalid value encountered in double_scalars\n",
      "/home/jovyan/.local/lib/python3.6/site-packages/cameo/strain_design/heuristic/evolutionary/objective_functions.py:286 \u001b[1;31mRuntimeWarning\u001b[0m: invalid value encountered in double_scalars\n",
      "/home/jovyan/.local/lib/python3.6/site-packages/cameo/strain_design/heuristic/evolutionary/objective_functions.py:286 \u001b[1;31mRuntimeWarning\u001b[0m: invalid value encountered in double_scalars\n",
      "/home/jovyan/.local/lib/python3.6/site-packages/cameo/strain_design/heuristic/evolutionary/objective_functions.py:286 \u001b[1;31mRuntimeWarning\u001b[0m: invalid value encountered in double_scalars\n",
      "/home/jovyan/.local/lib/python3.6/site-packages/cameo/strain_design/heuristic/evolutionary/objective_functions.py:286 \u001b[1;31mRuntimeWarning\u001b[0m: invalid value encountered in double_scalars\n",
      "/home/jovyan/.local/lib/python3.6/site-packages/cameo/strain_design/heuristic/evolutionary/objective_functions.py:286 \u001b[1;31mRuntimeWarning\u001b[0m: invalid value encountered in double_scalars\n",
      "/home/jovyan/.local/lib/python3.6/site-packages/cameo/strain_design/heuristic/evolutionary/objective_functions.py:286 \u001b[1;31mRuntimeWarning\u001b[0m: invalid value encountered in double_scalars\n",
      "/home/jovyan/.local/lib/python3.6/site-packages/cameo/strain_design/heuristic/evolutionary/objective_functions.py:286 \u001b[1;31mRuntimeWarning\u001b[0m: invalid value encountered in double_scalars\n",
      "/home/jovyan/.local/lib/python3.6/site-packages/cameo/strain_design/heuristic/evolutionary/objective_functions.py:286 \u001b[1;31mRuntimeWarning\u001b[0m: invalid value encountered in double_scalars\n",
      "/home/jovyan/.local/lib/python3.6/site-packages/cameo/strain_design/heuristic/evolutionary/objective_functions.py:286 \u001b[1;31mRuntimeWarning\u001b[0m: invalid value encountered in double_scalars\n",
      "/home/jovyan/.local/lib/python3.6/site-packages/cameo/strain_design/heuristic/evolutionary/objective_functions.py:286 \u001b[1;31mRuntimeWarning\u001b[0m: invalid value encountered in double_scalars\n",
      "/home/jovyan/.local/lib/python3.6/site-packages/cameo/strain_design/heuristic/evolutionary/objective_functions.py:286 \u001b[1;31mRuntimeWarning\u001b[0m: invalid value encountered in double_scalars\n",
      "/home/jovyan/.local/lib/python3.6/site-packages/cameo/strain_design/heuristic/evolutionary/objective_functions.py:286 \u001b[1;31mRuntimeWarning\u001b[0m: invalid value encountered in double_scalars\n",
      "/home/jovyan/.local/lib/python3.6/site-packages/cameo/strain_design/heuristic/evolutionary/objective_functions.py:286 \u001b[1;31mRuntimeWarning\u001b[0m: invalid value encountered in double_scalars\n",
      "/home/jovyan/.local/lib/python3.6/site-packages/cameo/strain_design/heuristic/evolutionary/objective_functions.py:286 \u001b[1;31mRuntimeWarning\u001b[0m: invalid value encountered in double_scalars\n",
      "/home/jovyan/.local/lib/python3.6/site-packages/cameo/strain_design/heuristic/evolutionary/objective_functions.py:286 \u001b[1;31mRuntimeWarning\u001b[0m: invalid value encountered in double_scalars\n",
      "/home/jovyan/.local/lib/python3.6/site-packages/cameo/strain_design/heuristic/evolutionary/objective_functions.py:286 \u001b[1;31mRuntimeWarning\u001b[0m: invalid value encountered in double_scalars\n",
      "/home/jovyan/.local/lib/python3.6/site-packages/cameo/strain_design/heuristic/evolutionary/objective_functions.py:286 \u001b[1;31mRuntimeWarning\u001b[0m: invalid value encountered in double_scalars\n",
      "/home/jovyan/.local/lib/python3.6/site-packages/cameo/strain_design/heuristic/evolutionary/objective_functions.py:286 \u001b[1;31mRuntimeWarning\u001b[0m: invalid value encountered in double_scalars\n",
      "/home/jovyan/.local/lib/python3.6/site-packages/cameo/strain_design/heuristic/evolutionary/objective_functions.py:286 \u001b[1;31mRuntimeWarning\u001b[0m: invalid value encountered in double_scalars\n",
      "/home/jovyan/.local/lib/python3.6/site-packages/cameo/strain_design/heuristic/evolutionary/objective_functions.py:286 \u001b[1;31mRuntimeWarning\u001b[0m: invalid value encountered in double_scalars\n",
      "/home/jovyan/.local/lib/python3.6/site-packages/cameo/strain_design/heuristic/evolutionary/objective_functions.py:286 \u001b[1;31mRuntimeWarning\u001b[0m: invalid value encountered in double_scalars\n",
      "/home/jovyan/.local/lib/python3.6/site-packages/cameo/strain_design/heuristic/evolutionary/objective_functions.py:286 \u001b[1;31mRuntimeWarning\u001b[0m: invalid value encountered in double_scalars\n",
      "/home/jovyan/.local/lib/python3.6/site-packages/cameo/strain_design/heuristic/evolutionary/objective_functions.py:286 \u001b[1;31mRuntimeWarning\u001b[0m: invalid value encountered in double_scalars\n",
      "/home/jovyan/.local/lib/python3.6/site-packages/cameo/strain_design/heuristic/evolutionary/objective_functions.py:286 \u001b[1;31mRuntimeWarning\u001b[0m: invalid value encountered in double_scalars\n",
      "/home/jovyan/.local/lib/python3.6/site-packages/cameo/strain_design/heuristic/evolutionary/objective_functions.py:286 \u001b[1;31mRuntimeWarning\u001b[0m: invalid value encountered in double_scalars\n",
      "/home/jovyan/.local/lib/python3.6/site-packages/cameo/strain_design/heuristic/evolutionary/objective_functions.py:286 \u001b[1;31mRuntimeWarning\u001b[0m: invalid value encountered in double_scalars\n",
      "/home/jovyan/.local/lib/python3.6/site-packages/cameo/strain_design/heuristic/evolutionary/objective_functions.py:286 \u001b[1;31mRuntimeWarning\u001b[0m: invalid value encountered in double_scalars\n",
      "/home/jovyan/.local/lib/python3.6/site-packages/cameo/strain_design/heuristic/evolutionary/objective_functions.py:286 \u001b[1;31mRuntimeWarning\u001b[0m: invalid value encountered in double_scalars\n",
      "/home/jovyan/.local/lib/python3.6/site-packages/cameo/strain_design/heuristic/evolutionary/objective_functions.py:286 \u001b[1;31mRuntimeWarning\u001b[0m: invalid value encountered in double_scalars\n",
      "/home/jovyan/.local/lib/python3.6/site-packages/cameo/strain_design/heuristic/evolutionary/objective_functions.py:286 \u001b[1;31mRuntimeWarning\u001b[0m: invalid value encountered in double_scalars\n",
      "/home/jovyan/.local/lib/python3.6/site-packages/cameo/strain_design/heuristic/evolutionary/objective_functions.py:286 \u001b[1;31mRuntimeWarning\u001b[0m: invalid value encountered in double_scalars\n",
      "/home/jovyan/.local/lib/python3.6/site-packages/cameo/strain_design/heuristic/evolutionary/objective_functions.py:286 \u001b[1;31mRuntimeWarning\u001b[0m: invalid value encountered in double_scalars\n",
      "/home/jovyan/.local/lib/python3.6/site-packages/cameo/strain_design/heuristic/evolutionary/objective_functions.py:286 \u001b[1;31mRuntimeWarning\u001b[0m: invalid value encountered in double_scalars\n",
      "/home/jovyan/.local/lib/python3.6/site-packages/cameo/strain_design/heuristic/evolutionary/objective_functions.py:286 \u001b[1;31mRuntimeWarning\u001b[0m: invalid value encountered in double_scalars\n",
      "/home/jovyan/.local/lib/python3.6/site-packages/cameo/strain_design/heuristic/evolutionary/objective_functions.py:286 \u001b[1;31mRuntimeWarning\u001b[0m: invalid value encountered in double_scalars\n",
      "/home/jovyan/.local/lib/python3.6/site-packages/cameo/strain_design/heuristic/evolutionary/objective_functions.py:286 \u001b[1;31mRuntimeWarning\u001b[0m: invalid value encountered in double_scalars\n",
      "/home/jovyan/.local/lib/python3.6/site-packages/cameo/strain_design/heuristic/evolutionary/objective_functions.py:286 \u001b[1;31mRuntimeWarning\u001b[0m: invalid value encountered in double_scalars\n",
      "/home/jovyan/.local/lib/python3.6/site-packages/cameo/strain_design/heuristic/evolutionary/objective_functions.py:286 \u001b[1;31mRuntimeWarning\u001b[0m: invalid value encountered in double_scalars\n",
      "/home/jovyan/.local/lib/python3.6/site-packages/cameo/strain_design/heuristic/evolutionary/objective_functions.py:286 \u001b[1;31mRuntimeWarning\u001b[0m: invalid value encountered in double_scalars\n",
      "/home/jovyan/.local/lib/python3.6/site-packages/cameo/strain_design/heuristic/evolutionary/objective_functions.py:286 \u001b[1;31mRuntimeWarning\u001b[0m: invalid value encountered in double_scalars\n",
      "/home/jovyan/.local/lib/python3.6/site-packages/cameo/strain_design/heuristic/evolutionary/objective_functions.py:286 \u001b[1;31mRuntimeWarning\u001b[0m: invalid value encountered in double_scalars\n",
      "/home/jovyan/.local/lib/python3.6/site-packages/cameo/strain_design/heuristic/evolutionary/objective_functions.py:286 \u001b[1;31mRuntimeWarning\u001b[0m: invalid value encountered in double_scalars\n",
      "/home/jovyan/.local/lib/python3.6/site-packages/cameo/strain_design/heuristic/evolutionary/objective_functions.py:286 \u001b[1;31mRuntimeWarning\u001b[0m: invalid value encountered in double_scalars\n",
      "/home/jovyan/.local/lib/python3.6/site-packages/cameo/strain_design/heuristic/evolutionary/objective_functions.py:286 \u001b[1;31mRuntimeWarning\u001b[0m: invalid value encountered in double_scalars\n",
      "/home/jovyan/.local/lib/python3.6/site-packages/cameo/strain_design/heuristic/evolutionary/objective_functions.py:286 \u001b[1;31mRuntimeWarning\u001b[0m: invalid value encountered in double_scalars\n",
      "/home/jovyan/.local/lib/python3.6/site-packages/cameo/strain_design/heuristic/evolutionary/objective_functions.py:286 \u001b[1;31mRuntimeWarning\u001b[0m: invalid value encountered in double_scalars\n",
      "/home/jovyan/.local/lib/python3.6/site-packages/cameo/strain_design/heuristic/evolutionary/objective_functions.py:286 \u001b[1;31mRuntimeWarning\u001b[0m: invalid value encountered in double_scalars\n",
      "/home/jovyan/.local/lib/python3.6/site-packages/cameo/strain_design/heuristic/evolutionary/objective_functions.py:286 \u001b[1;31mRuntimeWarning\u001b[0m: invalid value encountered in double_scalars\n",
      "/home/jovyan/.local/lib/python3.6/site-packages/cameo/strain_design/heuristic/evolutionary/objective_functions.py:286 \u001b[1;31mRuntimeWarning\u001b[0m: invalid value encountered in double_scalars\n",
      "/home/jovyan/.local/lib/python3.6/site-packages/cameo/strain_design/heuristic/evolutionary/objective_functions.py:286 \u001b[1;31mRuntimeWarning\u001b[0m: invalid value encountered in double_scalars\n",
      "/home/jovyan/.local/lib/python3.6/site-packages/cameo/strain_design/heuristic/evolutionary/objective_functions.py:286 \u001b[1;31mRuntimeWarning\u001b[0m: invalid value encountered in double_scalars\n",
      "/home/jovyan/.local/lib/python3.6/site-packages/cameo/strain_design/heuristic/evolutionary/objective_functions.py:286 \u001b[1;31mRuntimeWarning\u001b[0m: invalid value encountered in double_scalars\n",
      "/home/jovyan/.local/lib/python3.6/site-packages/cameo/strain_design/heuristic/evolutionary/objective_functions.py:286 \u001b[1;31mRuntimeWarning\u001b[0m: invalid value encountered in double_scalars\n",
      "/home/jovyan/.local/lib/python3.6/site-packages/cameo/strain_design/heuristic/evolutionary/objective_functions.py:286 \u001b[1;31mRuntimeWarning\u001b[0m: invalid value encountered in double_scalars\n",
      "/home/jovyan/.local/lib/python3.6/site-packages/cameo/strain_design/heuristic/evolutionary/objective_functions.py:286 \u001b[1;31mRuntimeWarning\u001b[0m: invalid value encountered in double_scalars\n",
      "/home/jovyan/.local/lib/python3.6/site-packages/cameo/strain_design/heuristic/evolutionary/objective_functions.py:286 \u001b[1;31mRuntimeWarning\u001b[0m: invalid value encountered in double_scalars\n",
      "/home/jovyan/.local/lib/python3.6/site-packages/cameo/strain_design/heuristic/evolutionary/objective_functions.py:286 \u001b[1;31mRuntimeWarning\u001b[0m: invalid value encountered in double_scalars\n",
      "/home/jovyan/.local/lib/python3.6/site-packages/cameo/strain_design/heuristic/evolutionary/objective_functions.py:286 \u001b[1;31mRuntimeWarning\u001b[0m: invalid value encountered in double_scalars\n",
      "/home/jovyan/.local/lib/python3.6/site-packages/cameo/strain_design/heuristic/evolutionary/objective_functions.py:286 \u001b[1;31mRuntimeWarning\u001b[0m: invalid value encountered in double_scalars\n",
      "/home/jovyan/.local/lib/python3.6/site-packages/cameo/strain_design/heuristic/evolutionary/objective_functions.py:286 \u001b[1;31mRuntimeWarning\u001b[0m: invalid value encountered in double_scalars\n",
      "/home/jovyan/.local/lib/python3.6/site-packages/cameo/strain_design/heuristic/evolutionary/objective_functions.py:286 \u001b[1;31mRuntimeWarning\u001b[0m: invalid value encountered in double_scalars\n",
      "/home/jovyan/.local/lib/python3.6/site-packages/cameo/strain_design/heuristic/evolutionary/objective_functions.py:286 \u001b[1;31mRuntimeWarning\u001b[0m: invalid value encountered in double_scalars\n",
      "/home/jovyan/.local/lib/python3.6/site-packages/cameo/strain_design/heuristic/evolutionary/objective_functions.py:286 \u001b[1;31mRuntimeWarning\u001b[0m: invalid value encountered in double_scalars\n",
      "/home/jovyan/.local/lib/python3.6/site-packages/cameo/strain_design/heuristic/evolutionary/objective_functions.py:286 \u001b[1;31mRuntimeWarning\u001b[0m: invalid value encountered in double_scalars\n",
      "/home/jovyan/.local/lib/python3.6/site-packages/cameo/strain_design/heuristic/evolutionary/objective_functions.py:286 \u001b[1;31mRuntimeWarning\u001b[0m: invalid value encountered in double_scalars\n",
      "/home/jovyan/.local/lib/python3.6/site-packages/cameo/strain_design/heuristic/evolutionary/objective_functions.py:286 \u001b[1;31mRuntimeWarning\u001b[0m: invalid value encountered in double_scalars\n",
      "/home/jovyan/.local/lib/python3.6/site-packages/cameo/strain_design/heuristic/evolutionary/objective_functions.py:286 \u001b[1;31mRuntimeWarning\u001b[0m: invalid value encountered in double_scalars\n",
      "/home/jovyan/.local/lib/python3.6/site-packages/cameo/strain_design/heuristic/evolutionary/objective_functions.py:286 \u001b[1;31mRuntimeWarning\u001b[0m: invalid value encountered in double_scalars\n",
      "/home/jovyan/.local/lib/python3.6/site-packages/cameo/strain_design/heuristic/evolutionary/objective_functions.py:286 \u001b[1;31mRuntimeWarning\u001b[0m: invalid value encountered in double_scalars\n",
      "/home/jovyan/.local/lib/python3.6/site-packages/cameo/strain_design/heuristic/evolutionary/objective_functions.py:286 \u001b[1;31mRuntimeWarning\u001b[0m: invalid value encountered in double_scalars\n",
      "/home/jovyan/.local/lib/python3.6/site-packages/cameo/strain_design/heuristic/evolutionary/objective_functions.py:286 \u001b[1;31mRuntimeWarning\u001b[0m: invalid value encountered in double_scalars\n",
      "/home/jovyan/.local/lib/python3.6/site-packages/cameo/strain_design/heuristic/evolutionary/objective_functions.py:286 \u001b[1;31mRuntimeWarning\u001b[0m: invalid value encountered in double_scalars\n",
      "/home/jovyan/.local/lib/python3.6/site-packages/cameo/strain_design/heuristic/evolutionary/objective_functions.py:286 \u001b[1;31mRuntimeWarning\u001b[0m: invalid value encountered in double_scalars\n",
      "/home/jovyan/.local/lib/python3.6/site-packages/cameo/strain_design/heuristic/evolutionary/objective_functions.py:286 \u001b[1;31mRuntimeWarning\u001b[0m: invalid value encountered in double_scalars\n",
      "/home/jovyan/.local/lib/python3.6/site-packages/cameo/strain_design/heuristic/evolutionary/objective_functions.py:286 \u001b[1;31mRuntimeWarning\u001b[0m: invalid value encountered in double_scalars\n",
      "/home/jovyan/.local/lib/python3.6/site-packages/cameo/strain_design/heuristic/evolutionary/objective_functions.py:286 \u001b[1;31mRuntimeWarning\u001b[0m: invalid value encountered in double_scalars\n",
      "/home/jovyan/.local/lib/python3.6/site-packages/cameo/strain_design/heuristic/evolutionary/objective_functions.py:286 \u001b[1;31mRuntimeWarning\u001b[0m: invalid value encountered in double_scalars\n",
      "/home/jovyan/.local/lib/python3.6/site-packages/cameo/strain_design/heuristic/evolutionary/objective_functions.py:286 \u001b[1;31mRuntimeWarning\u001b[0m: invalid value encountered in double_scalars\n",
      "/home/jovyan/.local/lib/python3.6/site-packages/cameo/strain_design/heuristic/evolutionary/objective_functions.py:286 \u001b[1;31mRuntimeWarning\u001b[0m: invalid value encountered in double_scalars\n",
      "/home/jovyan/.local/lib/python3.6/site-packages/cameo/strain_design/heuristic/evolutionary/objective_functions.py:286 \u001b[1;31mRuntimeWarning\u001b[0m: invalid value encountered in double_scalars\n",
      "/home/jovyan/.local/lib/python3.6/site-packages/cameo/strain_design/heuristic/evolutionary/objective_functions.py:286 \u001b[1;31mRuntimeWarning\u001b[0m: invalid value encountered in double_scalars\n",
      "/home/jovyan/.local/lib/python3.6/site-packages/cameo/strain_design/heuristic/evolutionary/objective_functions.py:286 \u001b[1;31mRuntimeWarning\u001b[0m: invalid value encountered in double_scalars\n",
      "/home/jovyan/.local/lib/python3.6/site-packages/cameo/strain_design/heuristic/evolutionary/objective_functions.py:286 \u001b[1;31mRuntimeWarning\u001b[0m: invalid value encountered in double_scalars\n",
      "/home/jovyan/.local/lib/python3.6/site-packages/cameo/strain_design/heuristic/evolutionary/objective_functions.py:286 \u001b[1;31mRuntimeWarning\u001b[0m: invalid value encountered in double_scalars\n",
      "/home/jovyan/.local/lib/python3.6/site-packages/cameo/strain_design/heuristic/evolutionary/objective_functions.py:286 \u001b[1;31mRuntimeWarning\u001b[0m: invalid value encountered in double_scalars\n",
      "/home/jovyan/.local/lib/python3.6/site-packages/cameo/strain_design/heuristic/evolutionary/objective_functions.py:286 \u001b[1;31mRuntimeWarning\u001b[0m: invalid value encountered in double_scalars\n",
      "/home/jovyan/.local/lib/python3.6/site-packages/cameo/strain_design/heuristic/evolutionary/objective_functions.py:286 \u001b[1;31mRuntimeWarning\u001b[0m: invalid value encountered in double_scalars\n",
      "/home/jovyan/.local/lib/python3.6/site-packages/cameo/strain_design/heuristic/evolutionary/objective_functions.py:286 \u001b[1;31mRuntimeWarning\u001b[0m: invalid value encountered in double_scalars\n",
      "/home/jovyan/.local/lib/python3.6/site-packages/cameo/strain_design/heuristic/evolutionary/objective_functions.py:286 \u001b[1;31mRuntimeWarning\u001b[0m: invalid value encountered in double_scalars\n",
      "/home/jovyan/.local/lib/python3.6/site-packages/cameo/strain_design/heuristic/evolutionary/objective_functions.py:286 \u001b[1;31mRuntimeWarning\u001b[0m: invalid value encountered in double_scalars\n",
      "/home/jovyan/.local/lib/python3.6/site-packages/cameo/strain_design/heuristic/evolutionary/objective_functions.py:286 \u001b[1;31mRuntimeWarning\u001b[0m: invalid value encountered in double_scalars\n",
      "/home/jovyan/.local/lib/python3.6/site-packages/cameo/strain_design/heuristic/evolutionary/objective_functions.py:286 \u001b[1;31mRuntimeWarning\u001b[0m: invalid value encountered in double_scalars\n",
      "/home/jovyan/.local/lib/python3.6/site-packages/cameo/strain_design/heuristic/evolutionary/objective_functions.py:286 \u001b[1;31mRuntimeWarning\u001b[0m: invalid value encountered in double_scalars\n",
      "/home/jovyan/.local/lib/python3.6/site-packages/cameo/strain_design/heuristic/evolutionary/objective_functions.py:286 \u001b[1;31mRuntimeWarning\u001b[0m: invalid value encountered in double_scalars\n",
      "/home/jovyan/.local/lib/python3.6/site-packages/cameo/strain_design/heuristic/evolutionary/objective_functions.py:286 \u001b[1;31mRuntimeWarning\u001b[0m: invalid value encountered in double_scalars\n",
      "/home/jovyan/.local/lib/python3.6/site-packages/cameo/strain_design/heuristic/evolutionary/objective_functions.py:286 \u001b[1;31mRuntimeWarning\u001b[0m: invalid value encountered in double_scalars\n",
      "/home/jovyan/.local/lib/python3.6/site-packages/cameo/strain_design/heuristic/evolutionary/objective_functions.py:286 \u001b[1;31mRuntimeWarning\u001b[0m: invalid value encountered in double_scalars\n",
      "/home/jovyan/.local/lib/python3.6/site-packages/cameo/strain_design/heuristic/evolutionary/objective_functions.py:286 \u001b[1;31mRuntimeWarning\u001b[0m: invalid value encountered in double_scalars\n",
      "/home/jovyan/.local/lib/python3.6/site-packages/cameo/strain_design/heuristic/evolutionary/objective_functions.py:286 \u001b[1;31mRuntimeWarning\u001b[0m: invalid value encountered in double_scalars\n",
      "/home/jovyan/.local/lib/python3.6/site-packages/cameo/strain_design/heuristic/evolutionary/objective_functions.py:286 \u001b[1;31mRuntimeWarning\u001b[0m: invalid value encountered in double_scalars\n",
      "/home/jovyan/.local/lib/python3.6/site-packages/cameo/strain_design/heuristic/evolutionary/objective_functions.py:286 \u001b[1;31mRuntimeWarning\u001b[0m: invalid value encountered in double_scalars\n",
      "/home/jovyan/.local/lib/python3.6/site-packages/cameo/strain_design/heuristic/evolutionary/objective_functions.py:286 \u001b[1;31mRuntimeWarning\u001b[0m: invalid value encountered in double_scalars\n",
      "/home/jovyan/.local/lib/python3.6/site-packages/cameo/strain_design/heuristic/evolutionary/objective_functions.py:286 \u001b[1;31mRuntimeWarning\u001b[0m: invalid value encountered in double_scalars\n",
      "/home/jovyan/.local/lib/python3.6/site-packages/cameo/strain_design/heuristic/evolutionary/objective_functions.py:286 \u001b[1;31mRuntimeWarning\u001b[0m: invalid value encountered in double_scalars\n",
      "/home/jovyan/.local/lib/python3.6/site-packages/cameo/strain_design/heuristic/evolutionary/objective_functions.py:286 \u001b[1;31mRuntimeWarning\u001b[0m: invalid value encountered in double_scalars\n",
      "/home/jovyan/.local/lib/python3.6/site-packages/cameo/strain_design/heuristic/evolutionary/objective_functions.py:286 \u001b[1;31mRuntimeWarning\u001b[0m: invalid value encountered in double_scalars\n",
      "/home/jovyan/.local/lib/python3.6/site-packages/cameo/strain_design/heuristic/evolutionary/objective_functions.py:286 \u001b[1;31mRuntimeWarning\u001b[0m: invalid value encountered in double_scalars\n",
      "/home/jovyan/.local/lib/python3.6/site-packages/cameo/strain_design/heuristic/evolutionary/objective_functions.py:286 \u001b[1;31mRuntimeWarning\u001b[0m: invalid value encountered in double_scalars\n",
      "/home/jovyan/.local/lib/python3.6/site-packages/cameo/strain_design/heuristic/evolutionary/objective_functions.py:286 \u001b[1;31mRuntimeWarning\u001b[0m: invalid value encountered in double_scalars\n",
      "/home/jovyan/.local/lib/python3.6/site-packages/cameo/strain_design/heuristic/evolutionary/objective_functions.py:286 \u001b[1;31mRuntimeWarning\u001b[0m: invalid value encountered in double_scalars\n",
      "/home/jovyan/.local/lib/python3.6/site-packages/cameo/strain_design/heuristic/evolutionary/objective_functions.py:286 \u001b[1;31mRuntimeWarning\u001b[0m: invalid value encountered in double_scalars\n",
      "/home/jovyan/.local/lib/python3.6/site-packages/cameo/strain_design/heuristic/evolutionary/objective_functions.py:286 \u001b[1;31mRuntimeWarning\u001b[0m: invalid value encountered in double_scalars\n",
      "/home/jovyan/.local/lib/python3.6/site-packages/cameo/strain_design/heuristic/evolutionary/objective_functions.py:286 \u001b[1;31mRuntimeWarning\u001b[0m: invalid value encountered in double_scalars\n",
      "/home/jovyan/.local/lib/python3.6/site-packages/cameo/strain_design/heuristic/evolutionary/objective_functions.py:286 \u001b[1;31mRuntimeWarning\u001b[0m: invalid value encountered in double_scalars\n",
      "/home/jovyan/.local/lib/python3.6/site-packages/cameo/strain_design/heuristic/evolutionary/objective_functions.py:286 \u001b[1;31mRuntimeWarning\u001b[0m: invalid value encountered in double_scalars\n",
      "/home/jovyan/.local/lib/python3.6/site-packages/cameo/strain_design/heuristic/evolutionary/objective_functions.py:286 \u001b[1;31mRuntimeWarning\u001b[0m: invalid value encountered in double_scalars\n",
      "/home/jovyan/.local/lib/python3.6/site-packages/cameo/strain_design/heuristic/evolutionary/objective_functions.py:286 \u001b[1;31mRuntimeWarning\u001b[0m: invalid value encountered in double_scalars\n",
      "/home/jovyan/.local/lib/python3.6/site-packages/cameo/strain_design/heuristic/evolutionary/objective_functions.py:286 \u001b[1;31mRuntimeWarning\u001b[0m: invalid value encountered in double_scalars\n",
      "/home/jovyan/.local/lib/python3.6/site-packages/cameo/strain_design/heuristic/evolutionary/objective_functions.py:286 \u001b[1;31mRuntimeWarning\u001b[0m: invalid value encountered in double_scalars\n",
      "/home/jovyan/.local/lib/python3.6/site-packages/cameo/strain_design/heuristic/evolutionary/objective_functions.py:286 \u001b[1;31mRuntimeWarning\u001b[0m: invalid value encountered in double_scalars\n",
      "/home/jovyan/.local/lib/python3.6/site-packages/cameo/strain_design/heuristic/evolutionary/objective_functions.py:286 \u001b[1;31mRuntimeWarning\u001b[0m: invalid value encountered in double_scalars\n",
      "/home/jovyan/.local/lib/python3.6/site-packages/cameo/strain_design/heuristic/evolutionary/objective_functions.py:286 \u001b[1;31mRuntimeWarning\u001b[0m: invalid value encountered in double_scalars\n",
      "/home/jovyan/.local/lib/python3.6/site-packages/cameo/strain_design/heuristic/evolutionary/objective_functions.py:286 \u001b[1;31mRuntimeWarning\u001b[0m: invalid value encountered in double_scalars\n",
      "/home/jovyan/.local/lib/python3.6/site-packages/cameo/strain_design/heuristic/evolutionary/objective_functions.py:286 \u001b[1;31mRuntimeWarning\u001b[0m: invalid value encountered in double_scalars\n",
      "/home/jovyan/.local/lib/python3.6/site-packages/cameo/strain_design/heuristic/evolutionary/objective_functions.py:286 \u001b[1;31mRuntimeWarning\u001b[0m: invalid value encountered in double_scalars\n",
      "/home/jovyan/.local/lib/python3.6/site-packages/cameo/strain_design/heuristic/evolutionary/objective_functions.py:286 \u001b[1;31mRuntimeWarning\u001b[0m: invalid value encountered in double_scalars\n",
      "/home/jovyan/.local/lib/python3.6/site-packages/cameo/strain_design/heuristic/evolutionary/objective_functions.py:286 \u001b[1;31mRuntimeWarning\u001b[0m: invalid value encountered in double_scalars\n",
      "/home/jovyan/.local/lib/python3.6/site-packages/cameo/strain_design/heuristic/evolutionary/objective_functions.py:286 \u001b[1;31mRuntimeWarning\u001b[0m: invalid value encountered in double_scalars\n",
      "/home/jovyan/.local/lib/python3.6/site-packages/cameo/strain_design/heuristic/evolutionary/objective_functions.py:286 \u001b[1;31mRuntimeWarning\u001b[0m: invalid value encountered in double_scalars\n",
      "/home/jovyan/.local/lib/python3.6/site-packages/cameo/strain_design/heuristic/evolutionary/objective_functions.py:286 \u001b[1;31mRuntimeWarning\u001b[0m: invalid value encountered in double_scalars\n",
      "/home/jovyan/.local/lib/python3.6/site-packages/cameo/strain_design/heuristic/evolutionary/objective_functions.py:286 \u001b[1;31mRuntimeWarning\u001b[0m: invalid value encountered in double_scalars\n",
      "/home/jovyan/.local/lib/python3.6/site-packages/cameo/strain_design/heuristic/evolutionary/objective_functions.py:286 \u001b[1;31mRuntimeWarning\u001b[0m: invalid value encountered in double_scalars\n",
      "/home/jovyan/.local/lib/python3.6/site-packages/cameo/strain_design/heuristic/evolutionary/objective_functions.py:286 \u001b[1;31mRuntimeWarning\u001b[0m: invalid value encountered in double_scalars\n",
      "/home/jovyan/.local/lib/python3.6/site-packages/cameo/strain_design/heuristic/evolutionary/objective_functions.py:286 \u001b[1;31mRuntimeWarning\u001b[0m: invalid value encountered in double_scalars\n"
     ]
    },
    {
     "name": "stdout",
     "output_type": "stream",
     "text": [
      "Finished after 06:22:52\n"
     ]
    }
   ],
   "source": [
    "result = optgene.run(target=model.reactions.EX_h2_e, \n",
    "                     biomass=model.reactions.Biomass_Chlamy_mixo,\n",
    "                     substrate=model.metabolites.ac_e,\n",
    "                     max_evaluations=20000, population_size=200, max_knockouts=5,\n",
    "                     plot=False, growth_coupled=True)"
   ]
  },
  {
   "cell_type": "code",
   "execution_count": 6,
   "metadata": {},
   "outputs": [
    {
     "data": {
      "text/html": [
       "\n",
       "        <h3>OptGene Result</h3>\n",
       "        <ul>\n",
       "            <li>Simulation: fba<br/></li>\n",
       "            <li>Objective Function: $$bpcy = \\frac{(Biomass\\_Chlamy\\_mixo * min(EX\\_h2\\_e))}{EX\\_ac\\_e}$$<br/></li>\n",
       "        </ul>\n",
       "        <div>\n",
       "<style scoped>\n",
       "    .dataframe tbody tr th:only-of-type {\n",
       "        vertical-align: middle;\n",
       "    }\n",
       "\n",
       "    .dataframe tbody tr th {\n",
       "        vertical-align: top;\n",
       "    }\n",
       "\n",
       "    .dataframe thead th {\n",
       "        text-align: right;\n",
       "    }\n",
       "</style>\n",
       "<table border=\"1\" class=\"dataframe\">\n",
       "  <thead>\n",
       "    <tr style=\"text-align: right;\">\n",
       "      <th></th>\n",
       "      <th>reactions</th>\n",
       "      <th>genes</th>\n",
       "      <th>size</th>\n",
       "      <th>fva_min</th>\n",
       "      <th>fva_max</th>\n",
       "      <th>target_flux</th>\n",
       "      <th>biomass_flux</th>\n",
       "      <th>yield</th>\n",
       "      <th>fitness</th>\n",
       "    </tr>\n",
       "  </thead>\n",
       "  <tbody>\n",
       "  </tbody>\n",
       "</table>\n",
       "</div>\n",
       "        "
      ],
      "text/plain": [
       "<cameo.strain_design.heuristic.evolutionary_based.OptGeneResult at 0x7f31e9cd0550>"
      ]
     },
     "execution_count": 6,
     "metadata": {},
     "output_type": "execute_result"
    }
   ],
   "source": [
    "result"
   ]
  },
  {
   "cell_type": "code",
   "execution_count": null,
   "metadata": {},
   "outputs": [],
   "source": [
    "from cobra import Reaction, Metabolite\n",
    "from cameo.strain_design.heuristic.evolutionary_based import OptGene\n",
    "from cameo.strain_design.deterministic.linear_programming import OptKnock\n",
    "\n",
    "Hydrogen_producer_reactions = ['HYDA', 'HYDAm', 'HYDAh']\n",
    "\n",
    "for reaction in Hydrogen_producer_reactions:\n",
    "    with mixo:\n",
    "        optknock = OptKnock(mixo, fraction_of_optimum=0.1)\n",
    "        result = optknock.run(max_knockouts=2, target=reaction, biomass=\"Biomass_Chlamy_mixo\")"
   ]
  }
 ],
 "metadata": {
  "kernelspec": {
   "display_name": "python3.6",
   "language": "python",
   "name": "python3.6"
  },
  "language_info": {
   "codemirror_mode": {
    "name": "ipython",
    "version": 3
   },
   "file_extension": ".py",
   "mimetype": "text/x-python",
   "name": "python",
   "nbconvert_exporter": "python",
   "pygments_lexer": "ipython3",
   "version": "3.6.12"
  }
 },
 "nbformat": 4,
 "nbformat_minor": 4
}
